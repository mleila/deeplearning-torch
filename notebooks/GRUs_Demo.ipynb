{
 "cells": [
  {
   "cell_type": "code",
   "execution_count": 1,
   "metadata": {},
   "outputs": [],
   "source": [
    "%load_ext autoreload\n",
    "%autoreload 2"
   ]
  },
  {
   "cell_type": "code",
   "execution_count": 175,
   "metadata": {},
   "outputs": [],
   "source": [
    "import sys\n",
    "sys.path.append('..')\n",
    "\n",
    "import numpy as np\n",
    "import torch\n",
    "\n",
    "from src.grus import GRU_Cell\n",
    "\n",
    "# TORCH CONFIGURATION\n",
    "device = torch.device(\"cpu\")"
   ]
  },
  {
   "cell_type": "code",
   "execution_count": 193,
   "metadata": {},
   "outputs": [],
   "source": [
    "# Input\n",
    "input_size = 4\n",
    "output_size = 4\n",
    "hidden_size = 3\n",
    "batch_size = 2\n",
    "current_state = torch.zeros(hidden_size, batch_size)\n",
    "\n",
    "# attach to device\n",
    "current_state.to(device);"
   ]
  },
  {
   "cell_type": "code",
   "execution_count": 206,
   "metadata": {},
   "outputs": [],
   "source": [
    "# data preparation\n",
    "from sklearn.preprocessing import OneHotEncoder\n",
    "string = 'abcd'*20\n",
    "c2n = {'a': 0, 'b': 1, 'c': 2, 'd': 3}\n",
    "n2c = {v:k for k,v in c2n.items()}\n",
    "string_numb = np.array([c2n[char] for char in string]).reshape(-1, 1)\n",
    "encoder = OneHotEncoder()\n",
    "input_data = encoder.fit_transform(string_numb).todense()\n",
    "\n",
    "batches = 40\n",
    "input_data = torch.tensor(input_data, dtype=torch.float32).reshape(batches, input_size, batch_size)"
   ]
  },
  {
   "cell_type": "code",
   "execution_count": 207,
   "metadata": {},
   "outputs": [],
   "source": [
    "# utils\n",
    "def decode_character(onehot):\n",
    "    indx_max = torch.argmax(onehot.squeeze()).tolist()\n",
    "    return n2c[indx_max]\n",
    "\n",
    "# model \n",
    "gru = GRU_Cell(hidden_size, input_size, batch_size, output_size)\n",
    "\n",
    "for batch_index in range(batches):\n",
    "    batch = input_data[batch_index]\n",
    "    assert batch.shape == (input_size, batch_size)\n",
    "    activation, current_state = gru.forward(batch, current_state)"
   ]
  },
  {
   "cell_type": "code",
   "execution_count": null,
   "metadata": {},
   "outputs": [],
   "source": []
  }
 ],
 "metadata": {
  "kernelspec": {
   "display_name": "Python [conda env:pDL] *",
   "language": "python",
   "name": "conda-env-pDL-py"
  },
  "language_info": {
   "codemirror_mode": {
    "name": "ipython",
    "version": 3
   },
   "file_extension": ".py",
   "mimetype": "text/x-python",
   "name": "python",
   "nbconvert_exporter": "python",
   "pygments_lexer": "ipython3",
   "version": "3.8.6"
  },
  "toc": {
   "base_numbering": 1,
   "nav_menu": {},
   "number_sections": true,
   "sideBar": true,
   "skip_h1_title": false,
   "title_cell": "Table of Contents",
   "title_sidebar": "Contents",
   "toc_cell": false,
   "toc_position": {},
   "toc_section_display": true,
   "toc_window_display": false
  }
 },
 "nbformat": 4,
 "nbformat_minor": 4
}
