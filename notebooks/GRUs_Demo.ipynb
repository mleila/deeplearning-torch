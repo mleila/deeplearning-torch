{
 "cells": [
  {
   "cell_type": "markdown",
   "metadata": {},
   "source": [
    "# Introduction"
   ]
  },
  {
   "cell_type": "code",
   "execution_count": 1,
   "metadata": {},
   "outputs": [],
   "source": [
    "%load_ext autoreload\n",
    "%autoreload 2"
   ]
  },
  {
   "cell_type": "code",
   "execution_count": 2,
   "metadata": {},
   "outputs": [],
   "source": [
    "import sys\n",
    "sys.path.append('..')\n",
    "\n",
    "import numpy as np\n",
    "import torch\n",
    "from sklearn.preprocessing import OneHotEncoder\n",
    "\n",
    "from src.grus import GRU_Cell, compute_loss, train_gru, cross_entropy\n",
    "\n",
    "# TORCH CONFIGURATION\n",
    "device = torch.device(\"cuda\" if torch.cuda.is_available() else \"cpu\")"
   ]
  },
  {
   "cell_type": "markdown",
   "metadata": {},
   "source": [
    "# Predict Repeated Sequence"
   ]
  },
  {
   "cell_type": "code",
   "execution_count": 3,
   "metadata": {},
   "outputs": [
    {
     "name": "stdout",
     "output_type": "stream",
     "text": [
      "torch.Size([64, 4])\n",
      "torch.Size([64, 4])\n",
      "tensor([1., 0., 0., 0.]) a\n",
      "tensor([0., 1., 0., 0.]) b\n"
     ]
    }
   ],
   "source": [
    "# basic parameters\n",
    "input_size = 4\n",
    "output_size = 4\n",
    "hidden_size = 3\n",
    "\n",
    "# utils\n",
    "def encode_character(char, c2n):\n",
    "    number = c2n[char]\n",
    "    one_hot = np.zeros(len(c2n))\n",
    "    one_hot[number] = 1\n",
    "    return one_hot\n",
    "    \n",
    "def decode_character(onehot):\n",
    "    indx_max = torch.argmax(onehot.squeeze()).tolist()\n",
    "    return n2c[indx_max]\n",
    "\n",
    "# data preparation\n",
    "examples = 1000\n",
    "seq = 'abcd'\n",
    "string = seq*examples\n",
    "c2n = {val: index for index, val in enumerate(seq)}\n",
    "n2c = {v:k for k,v in c2n.items()}\n",
    "\n",
    "features = np.array([encode_character(char, c2n) for char in string]).T\n",
    "targets = np.roll(features, shift=-1, axis=0)\n",
    "\n",
    "# convert numpy arrays to tensors\n",
    "features = torch.tensor(features, dtype=torch.float32).reshape(-1, input_size)\n",
    "targets = torch.tensor(targets, dtype=torch.float32).reshape(-1, input_size)\n",
    "\n",
    "# make a dataset from these tensors\n",
    "training_data = torch.utils.data.TensorDataset(features, targets)\n",
    "\n",
    "# build a dataloader\n",
    "loader_params = dict(batch_size=64, shuffle=False)\n",
    "train_loader = torch.utils.data.DataLoader(dataset=training_data, **loader_params)\n",
    "\n",
    "# how you iterate\n",
    "for x_train, y_train in train_loader:\n",
    "    print(x_train.shape), print(y_train.shape)\n",
    "    print(x_train[0], decode_character(x_train[0]))\n",
    "    print(y_train[0], decode_character(y_train[0]))\n",
    "    break"
   ]
  },
  {
   "cell_type": "code",
   "execution_count": 5,
   "metadata": {},
   "outputs": [
    {
     "name": "stdout",
     "output_type": "stream",
     "text": [
      "epoch 0 loss = 1.42\n",
      "epoch 10 loss = 0.24\n",
      "epoch 20 loss = 0.12\n",
      "epoch 30 loss = 0.08\n",
      "epoch 40 loss = 0.06\n",
      "epoch 50 loss = 0.05\n",
      "epoch 60 loss = 0.04\n",
      "epoch 70 loss = 0.04\n",
      "epoch 80 loss = 0.03\n",
      "epoch 90 loss = 0.03\n"
     ]
    }
   ],
   "source": [
    "# instantiate GRU Model\n",
    "gru = GRU_Cell(hidden_size, input_size, output_size)\n",
    "\n",
    "# define training parameters\n",
    "epochs = 100\n",
    "optimizer = torch.optim.SGD(gru.parameters(), lr=0.01)\n",
    "\n",
    "# train\n",
    "state = train_gru(gru, train_loader, epochs, cross_entropy, optimizer, device, verbose=True)"
   ]
  },
  {
   "cell_type": "code",
   "execution_count": 6,
   "metadata": {},
   "outputs": [
    {
     "name": "stdout",
     "output_type": "stream",
     "text": [
      "a b\n",
      "d a\n",
      "b d\n",
      "b d\n",
      "d a\n",
      "c d\n",
      "d a\n",
      "c d\n",
      "a b\n",
      "b d\n"
     ]
    }
   ],
   "source": [
    "# testing\n",
    "def softmax_to_onehot(x):\n",
    "    res = torch.zeros(4)\n",
    "    res[torch.argmax(x)] = 1\n",
    "    return res\n",
    "\n",
    "test_loader = torch.utils.data.DataLoader(dataset=training_data, batch_size=1, shuffle=True, )\n",
    "\n",
    "examples = 10\n",
    "for x_test, y_test in test_loader:\n",
    "    activations, _ = gru(x_test, state)\n",
    "    for input_example, output_example in zip(x_test, activations):\n",
    "        prediction_onehot = softmax_to_onehot(output_example)\n",
    "        print(decode_character(input_example), decode_character(output_example))\n",
    "    examples -= 1\n",
    "    if examples == 0:\n",
    "        break"
   ]
  },
  {
   "cell_type": "markdown",
   "metadata": {},
   "source": [
    "# Timeseries Forecasting"
   ]
  },
  {
   "cell_type": "code",
   "execution_count": 10,
   "metadata": {},
   "outputs": [
    {
     "name": "stdout",
     "output_type": "stream",
     "text": [
      "epoch 0 loss = 0.21\n",
      "epoch 10 loss = 0.12\n",
      "epoch 20 loss = 0.09\n",
      "epoch 30 loss = 0.08\n",
      "epoch 40 loss = 0.07\n",
      "epoch 50 loss = 0.06\n",
      "epoch 60 loss = 0.06\n",
      "epoch 70 loss = 0.06\n",
      "epoch 80 loss = 0.06\n",
      "epoch 90 loss = 0.06\n"
     ]
    }
   ],
   "source": [
    "from src.grus import GRU_Cell, compute_loss\n",
    "\n",
    "class TS_DS(torch.utils.data.Dataset):\n",
    "    def __init__(self, data, targets, input_window, output_window):\n",
    "        self.data = data\n",
    "        self.targets = targets\n",
    "        self.input_window = input_window\n",
    "        self.output_window = output_window\n",
    "\n",
    "    def __getitem__(self, index):\n",
    "        x = self.data[index: index + self.input_window]\n",
    "        y = self.targets[index: index + self.output_window]\n",
    "        return x, y\n",
    "\n",
    "    def __len__(self):\n",
    "        return len(self.data) - self.input_window\n",
    "    \n",
    "input_window = 2\n",
    "output_window = 2\n",
    "hidden_size = 5\n",
    "batch_size = 32\n",
    "\n",
    "data = torch.sin(torch.linspace(0, 1000*2*np.pi, steps=4000))\n",
    "targets = torch.roll(data, shifts=-input_window, dims=0)\n",
    "\n",
    "# make sliding window datasets\n",
    "train_ds = TS_DS(data, targets, input_window, output_window)\n",
    "\n",
    "# build a dataloader\n",
    "loader_params = dict(batch_size=batch_size, shuffle=False)\n",
    "train_loader = torch.utils.data.DataLoader(dataset=train_ds, **loader_params)\n",
    "\n",
    "# example -- sanity check\n",
    "'''\n",
    "print(data[:100])\n",
    "for x_train, y_train in train_loader:\n",
    "    print(x_train)\n",
    "    print(y_train)\n",
    "    break\n",
    "'''\n",
    "# instantiate GRU Model\n",
    "gru_ts = GRU_Cell(hidden_size, input_window, output_window, output_activation='tanh')\n",
    "\n",
    "# define training parameters\n",
    "epochs = 100\n",
    "optimizer = torch.optim.SGD(gru_ts.parameters(), lr=0.01)\n",
    "\n",
    "# train\n",
    "def mse_loss(y_pred, y_test):\n",
    "    return torch.mean(torch.sum((y_pred - y_test) ** 2, dim=0))\n",
    "\n",
    "state = train_gru(gru_ts, train_loader, epochs, mse_loss, optimizer, device, verbose=True)"
   ]
  },
  {
   "cell_type": "code",
   "execution_count": null,
   "metadata": {},
   "outputs": [],
   "source": []
  }
 ],
 "metadata": {
  "kernelspec": {
   "display_name": "Python 3",
   "language": "python",
   "name": "python3"
  },
  "language_info": {
   "codemirror_mode": {
    "name": "ipython",
    "version": 3
   },
   "file_extension": ".py",
   "mimetype": "text/x-python",
   "name": "python",
   "nbconvert_exporter": "python",
   "pygments_lexer": "ipython3",
   "version": "3.8.6"
  },
  "toc": {
   "base_numbering": 1,
   "nav_menu": {},
   "number_sections": true,
   "sideBar": true,
   "skip_h1_title": false,
   "title_cell": "Table of Contents",
   "title_sidebar": "Contents",
   "toc_cell": false,
   "toc_position": {},
   "toc_section_display": true,
   "toc_window_display": false
  }
 },
 "nbformat": 4,
 "nbformat_minor": 4
}
